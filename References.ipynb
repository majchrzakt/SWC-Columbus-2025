{
  "nbformat": 4,
  "nbformat_minor": 0,
  "metadata": {
    "colab": {
      "provenance": []
    },
    "kernelspec": {
      "name": "python3",
      "display_name": "Python 3"
    },
    "language_info": {
      "name": "python"
    }
  },
  "cells": [
    {
      "cell_type": "markdown",
      "source": [
        "# Secure Software Development Reference List\n",
        "\n",
        "1. Kohnfelder, Loren  \n",
        "   **Designing Secure Software: A Guide for Developers**  \n",
        "   978-1718501928  \n",
        "   https://www.amazon.com/Designing-Secure-Software-Guide-Developers/dp/1718501927  \n",
        "\n",
        "2. Janca, Tanya  \n",
        "   **Alice and Bob Learn Secure Coding**  \n",
        "   978-1394171705  \n",
        "   https://www.amazon.com/Alice-Bob-Learn-Secure-Coding/dp/1394171706  \n",
        "\n",
        "3. OWASP Top 10 Proactive Controls  \n",
        "   https://top10proactive.owasp.org/  \n",
        "\n",
        "4. OWASP Cheat Sheet Series  \n",
        "   https://cheatsheetseries.owasp.org/  \n",
        "\n",
        "5. Olmsted, Aspen  \n",
        "   **Security-Driven Software Development**  \n",
        "   978-1835462836  \n",
        "   https://www.amazon.com/Security-Driven-Software-Development-mitigate-software/dp/1835462839  \n",
        "\n",
        "6. Huyen, Chip  \n",
        "   **Designing Machine Learning Systems**  \n",
        "   978-1098107963  \n",
        "   https://www.amazon.com/Designing-Machine-Learning-Systems-Production-Ready/dp/1098107969  \n",
        "\n",
        "7. Shostack, Adam  \n",
        "   **Threat Modeling: Designing for Security**  \n",
        "   978-1118809990  \n",
        "   https://www.amazon.com/Threat-Modeling-Designing-Adam-Shostack/dp/1118809998  \n",
        "\n",
        "8. NIST AI Risk Management Framework  \n",
        "   https://www.nist.gov/itl/ai-risk-management-framework\n",
        "\n",
        "9. Molin, Stephanie  \n",
        "  **Hands-On Data Analysis with Pandas - Second Edition**  \n",
        "  978-1800563452  \n",
        "  https://www.amazon.com/Hands-Data-Analysis-Pandas-visualization/dp/1800563450  "
      ],
      "metadata": {
        "id": "AzWriAHBUFNf"
      }
    },
    {
      "cell_type": "code",
      "source": [],
      "metadata": {
        "id": "0Eed1QFotNXS"
      },
      "execution_count": null,
      "outputs": []
    }
  ]
}